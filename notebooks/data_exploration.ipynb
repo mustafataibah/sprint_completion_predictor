{
 "cells": [
  {
   "cell_type": "code",
   "execution_count": null,
   "metadata": {},
   "outputs": [],
   "source": [
    "import sys\n",
    "sys.path.append('..')\n",
    "\n",
    "import pandas as pd\n",
    "import matplotlib.pyplot as plt\n",
    "import seaborn as sns\n",
    "from sklearn.model_selection import train_test_split\n",
    "from sklearn.ensemble import RandomForestRegressor\n",
    "from sklearn.metrics import mean_absolute_error, mean_squared_error\n",
    "\n",
    "from src.data_collection.linear_api import fetch_issues\n",
    "from src.data_collection.github_api import fetch_merged_prs\n",
    "from src.data_processing.preprocessor import preprocess_data\n",
    "from src.model.predictor import CompletionPredictor"
   ]
  },
  {
   "cell_type": "code",
   "execution_count": null,
   "metadata": {},
   "outputs": [],
   "source": [
    "issues = fetch_issues()\n",
    "prs = fetch_merged_prs()\n",
    "\n",
    "print(f\"Fetched {len(issues)} issues and {len(prs)} pull requests.\")"
   ]
  },
  {
   "cell_type": "code",
   "execution_count": null,
   "metadata": {},
   "outputs": [],
   "source": [
    "df = preprocess_data(issues, prs)\n",
    "print(df.head())\n",
    "print(df.describe())"
   ]
  },
  {
   "cell_type": "code",
   "execution_count": null,
   "metadata": {},
   "outputs": [],
   "source": [
    "plt.figure(figsize=(10, 6))\n",
    "sns.scatterplot(data=df, x='estimate', y='completion_time')\n",
    "plt.title('Story Points vs Completion Time')\n",
    "plt.xlabel('Story Points')\n",
    "plt.ylabel('Completion Time (days)')\n",
    "plt.show()\n",
    "\n",
    "plt.figure(figsize=(10, 6))\n",
    "sns.boxplot(data=df, x='day_of_week', y='completion_time')\n",
    "plt.title('Completion Time by Day of Week')\n",
    "plt.xlabel('Day of Week (0 = Monday, 6 = Sunday)')\n",
    "plt.ylabel('Completion Time (days)')\n",
    "plt.show()"
   ]
  },
  {
   "cell_type": "code",
   "execution_count": null,
   "metadata": {},
   "outputs": [],
   "source": [
    "X = df[['estimate', 'day_of_week']]\n",
    "y = df['completion_time']\n",
    "\n",
    "X_train, X_test, y_train, y_test = train_test_split(X, y, test_size=0.2, random_state=42)\n",
    "\n",
    "predictor = CompletionPredictor()\n",
    "predictor.train(df)\n",
    "\n",
    "y_pred = predictor.model.predict(X_test)\n",
    "\n",
    "mae = mean_absolute_error(y_test, y_pred)\n",
    "mse = mean_squared_error(y_test, y_pred)\n",
    "rmse = mean_squared_error(y_test, y_pred, squared=False)\n",
    "\n",
    "print(f\"Mean Absolute Error: {mae:.2f} days\")\n",
    "print(f\"Mean Squared Error: {mse:.2f} days^2\")\n",
    "print(f\"Root Mean Squared Error: {rmse:.2f} days\")\n"
   ]
  },
  {
   "cell_type": "code",
   "execution_count": null,
   "metadata": {},
   "outputs": [],
   "source": [
    "feature_importance = pd.DataFrame({\n",
    "    'feature': X.columns,\n",
    "    'importance': predictor.model.feature_importances_\n",
    "}).sort_values('importance', ascending=False)\n",
    "\n",
    "plt.figure(figsize=(10, 6))\n",
    "sns.barplot(data=feature_importance, x='importance', y='feature')\n",
    "plt.title('Feature Importance')\n",
    "plt.xlabel('Importance')\n",
    "plt.ylabel('Feature')\n",
    "plt.show()"
   ]
  },
  {
   "cell_type": "code",
   "execution_count": null,
   "metadata": {},
   "outputs": [],
   "source": [
    "story_points = 3\n",
    "day_of_week = 2  # Wednesday\n",
    "\n",
    "predicted_days = predictor.predict(story_points, day_of_week)\n",
    "print(f\"A task with {story_points} story points started on day {day_of_week} (Wednesday) is predicted to take {predicted_days:.2f} days.\")"
   ]
  }
 ],
 "metadata": {
  "language_info": {
   "name": "python"
  }
 },
 "nbformat": 4,
 "nbformat_minor": 2
}
